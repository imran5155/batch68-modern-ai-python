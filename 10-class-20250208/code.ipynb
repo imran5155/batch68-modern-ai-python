{
 "cells": [
  {
   "cell_type": "markdown",
   "metadata": {},
   "source": [
    "# Class-10 OOP Advance"
   ]
  },
  {
   "cell_type": "code",
   "execution_count": null,
   "metadata": {},
   "outputs": [
    {
     "name": "stdout",
     "output_type": "stream",
     "text": [
      "{'name': 'Rehan'}\n"
     ]
    }
   ],
   "source": [
    "class Person:\n",
    "    \n",
    "    def __init__(self, name):\n",
    "        self.name = name\n",
    "    \n",
    "    def speaks(self):\n",
    "        print(f\"{self.name} speaks\")\n",
    "    \n",
    "    def __str__(self):\n",
    "        print(f\"Object name is {self.name}\")\n",
    "\n",
    "person1 = Person(\"Rehan\")\n",
    "\n",
    "print(person1.__dict__)\n"
   ]
  },
  {
   "cell_type": "code",
   "execution_count": 9,
   "metadata": {},
   "outputs": [
    {
     "name": "stdout",
     "output_type": "stream",
     "text": [
      "Rehan\n",
      "Usman\n"
     ]
    }
   ],
   "source": [
    "person2 = Person(\"Usman\")\n",
    "print(person1.name)\n",
    "print(person2.name)"
   ]
  },
  {
   "cell_type": "markdown",
   "metadata": {},
   "source": [
    "## 2. Class variables"
   ]
  },
  {
   "cell_type": "code",
   "execution_count": null,
   "metadata": {},
   "outputs": [
    {
     "name": "stdout",
     "output_type": "stream",
     "text": [
      "Pakistan\n",
      "Pakistan\n",
      "Pakistan\n"
     ]
    }
   ],
   "source": [
    "class Person:\n",
    "    nationality = \"Pakistan\"\n",
    "    \n",
    "    def __init__(self, name):\n",
    "        self.name = name\n",
    "        \n",
    "    \n",
    "    def speaks(self, cls):\n",
    "        print(f\"{self.name} from {cls.nationality} speaks\")\n",
    "    \n",
    "\n",
    "\n",
    "person1 = Person(\"Rehan\")\n",
    "\n",
    "person2 = Person(\"Usman\")\n",
    "\n",
    "print(person1.nationality)\n",
    "print(person2.nationality)\n",
    "print(Person.nationality)\n",
    "\n"
   ]
  },
  {
   "cell_type": "markdown",
   "metadata": {},
   "source": [
    "## 2. Class Methods\n",
    "- To control access to class variables\n",
    "- To modify class variables\n",
    "- To create objects in alternative way\n"
   ]
  },
  {
   "cell_type": "code",
   "execution_count": 4,
   "metadata": {},
   "outputs": [
    {
     "name": "stdout",
     "output_type": "stream",
     "text": [
      "<class '__main__.Car'>\n",
      "{'brand': 'toyota', 'color': 'yellow'}\n",
      "<class '__main__.Car'>\n"
     ]
    }
   ],
   "source": [
    "class Car:\n",
    "    \n",
    "    def __init__(self, brand) -> None:\n",
    "        self.brand = brand\n",
    "        self.color = \"\"\n",
    "\n",
    "    @classmethod\n",
    "    def add_color(cls, brand, color):\n",
    "        car = cls(brand)\n",
    "        car.color = color\n",
    "        return car\n",
    "\n",
    "\n",
    "car1 = Car(\"honda\")\n",
    "print(type(car1))\n",
    "\n",
    "\n",
    "car2 = Car.add_color(\"toyota\", \"yellow\")\n",
    "\n",
    "\n",
    "print(car2.__dict__)\n",
    "print(type(car2))"
   ]
  },
  {
   "cell_type": "code",
   "execution_count": null,
   "metadata": {},
   "outputs": [
    {
     "name": "stdout",
     "output_type": "stream",
     "text": [
      "green\n"
     ]
    }
   ],
   "source": [
    "class Car2:\n",
    "    __color = \"yellow\"\n",
    "    \n",
    "    def __init__(self, brand) -> None:\n",
    "        self.brand = brand\n",
    "\n",
    "    @classmethod\n",
    "    def access_color(cls):\n",
    "        cls.__color = \"green\"\n",
    "        print(cls.__color)\n",
    "\n",
    "car3 = Car2(\"suzuki\")\n",
    "car3.access_color()"
   ]
  },
  {
   "cell_type": "markdown",
   "metadata": {},
   "source": [
    "## 3. Static Methods\n",
    "\n",
    "- Do not require cls or self\n",
    "- utility methods\n",
    "- doesn't require object of that class to execute its code\n",
    "- doesn't need to know the state of class or its objects.\n",
    "\n",
    "**Usage:**\n",
    "\n",
    "- utilty functions add, multiply\n",
    "- validation\n",
    "- default settings/configurations\n"
   ]
  },
  {
   "cell_type": "code",
   "execution_count": null,
   "metadata": {},
   "outputs": [
    {
     "name": "stdout",
     "output_type": "stream",
     "text": [
      "{'name': 'Rehan', 'email': 'adsfdsae..'}\n",
      "{'name': 'Usman', 'email': 'abc@gmail.com'}\n"
     ]
    }
   ],
   "source": [
    "class User:\n",
    "    def __init__(self, name, email):\n",
    "        self.name = name\n",
    "        self.email = email\n",
    "\n",
    "    @staticmethod\n",
    "    def validate_email(email):\n",
    "        return '@' in email and '.' in email\n",
    "    \n",
    "    @classmethod\n",
    "    def create_user(cls, name, email):\n",
    "        if not cls.validate_email(email):\n",
    "            raise ValueError(\"Not a valid email\")\n",
    "        return cls(name, email)\n",
    "    \n",
    "\n",
    "    @staticmethod\n",
    "    def default_settings():\n",
    "        return {\n",
    "            \"settingq\": \"any\"\n",
    "        }\n",
    "\n",
    "user1 = User(\"Rehan\", \"adsfdsae..\")\n",
    "print(user1.__dict__)\n",
    "\n",
    "user2 = User.create_user(\"Usman\", \"abc@gmail.com\")\n",
    "print(user2.__dict__)\n"
   ]
  },
  {
   "cell_type": "markdown",
   "metadata": {},
   "source": [
    "### Comparison\n",
    "\n",
    "| **Feature** | **Instance Method** | **Class Method** | **Static Method** |\n",
    "|-----------|-------------|------------|-------------|\n",
    "| works on | instances | class | neither of them |\n",
    "| modify instance? | yes | no | no |\n",
    "| modify class? | no | yes | no |\n",
    "| used for? | modifying instance data | modifying class data | utility function |"
   ]
  },
  {
   "cell_type": "markdown",
   "metadata": {},
   "source": [
    "## 4. Inheritence\n",
    "is-a relationship  \n",
    "Teacher is-a Person  \n",
    "Student is-a Person  \n",
    "\n",
    "- Child class also called Subclass inherits  the properties and methods of it's Parent Class also called Base Class.\n",
    "- DRY --> Do not repeat yourself\n",
    "- Code reusability\n"
   ]
  },
  {
   "cell_type": "code",
   "execution_count": 27,
   "metadata": {},
   "outputs": [
    {
     "name": "stdout",
     "output_type": "stream",
     "text": [
      "parent constructor is being called\n",
      "parent constructor is being called\n",
      "child constructor is being called\n",
      "parent constructor is being called\n"
     ]
    }
   ],
   "source": [
    "class Person:\n",
    "    def __init__(self, name):\n",
    "        print(\"parent constructor is being called\")\n",
    "        self.name = name\n",
    "\n",
    "    def speaks(self):\n",
    "        print(\"Person speaks\")\n",
    "\n",
    "\n",
    "class Teacher(Person):\n",
    "    def __init__(self, name, subject):\n",
    "        print(\"child constructor is being called\")\n",
    "        super().__init__(name)\n",
    "        self.subject = subject\n",
    "\n",
    "    def speaks(self):\n",
    "        print(\"Teacher speaks\")\n",
    "        \n",
    "\n",
    "class Student(Person):\n",
    "    def __init__(self, name, batch):\n",
    "        super().__init__(name)\n",
    "        self.batch = batch\n",
    "\n",
    "    def speaks(self):\n",
    "        print(\"Student speaks\")  \n",
    "\n",
    "p1 = Person (\"Ibtisam\")\n",
    "s1 = Student(\"Rehan\", 68)\n",
    "t1 = Teacher(\"Usman\", \"Python\")\n",
    "\n"
   ]
  },
  {
   "cell_type": "code",
   "execution_count": 22,
   "metadata": {},
   "outputs": [
    {
     "name": "stdout",
     "output_type": "stream",
     "text": [
      "Python\n",
      "Usman\n"
     ]
    }
   ],
   "source": [
    "print(t1.subject)\n",
    "print(t1.name)"
   ]
  },
  {
   "cell_type": "markdown",
   "metadata": {},
   "source": [
    "### Method Overriding & Polymorphism\n",
    "Below code cell covers two important concepts of OOP.   \n",
    "1. Method Overriding: We are overriding the parent speak method in children/sub classes.\n",
    "2. Polymorphism: It is also one kind of Polymorphism. Poly means 'Many', Morph means 'Form'. `speak()` method takes many forms. In `Student` class, it takes on form when called by `Student` class instance and takes the other form when called by `Teacher` class instance/object."
   ]
  },
  {
   "cell_type": "code",
   "execution_count": null,
   "metadata": {},
   "outputs": [
    {
     "name": "stdout",
     "output_type": "stream",
     "text": [
      "Student speaks\n",
      "Teacher speaks\n",
      "Person speaks\n"
     ]
    }
   ],
   "source": [
    "# Below behavriour is called method overriding. It is also called polymorphism. \n",
    "\n",
    "s1.speaks()\n",
    "t1.speaks()\n",
    "p1.speaks()"
   ]
  },
  {
   "cell_type": "markdown",
   "metadata": {},
   "source": [
    "### Method Resolution Order (MRO)\n",
    "- Multi-level inheritance: Class `B` is subclass of class `A`. \n",
    "- Multiple Iheritance: Class `D` is subclass of multiple classes. Here in this case class `B` and class `C`.\n",
    "\n",
    "**Important Considerations:**\n",
    "1. Too much good thing is a bad thing --> For inheritance, try not to add more than 3 levels in multi-level inheritance.\n",
    "2. In Multiple inheritance, The method should be called for the left class. `D().info()` shall call the `info` method of class `B` because from left-to-right, it is comes first. \n",
    "3. Pythons finds the method in left to right or bottom to top order. \n",
    "4. If we do \n",
    "```python\n",
    "class D(A,C):\n",
    "    pass\n",
    "\n",
    "D().infor()\n",
    "```\n",
    "we shall get MRO error."
   ]
  },
  {
   "cell_type": "code",
   "execution_count": null,
   "metadata": {},
   "outputs": [
    {
     "name": "stdout",
     "output_type": "stream",
     "text": [
      "Class B\n"
     ]
    }
   ],
   "source": [
    "class A:\n",
    "    def info(self):\n",
    "        print('Class A')\n",
    "\n",
    "class B(A):\n",
    "    def info(self):\n",
    "        print('Class B')\n",
    "\n",
    "class C(A):\n",
    "    def info(self):\n",
    "        print('Class C')\n",
    "\n",
    "class D(B, C):\n",
    "    pass\n",
    "\n",
    "D().info()  # equivalent to d.info() where d = D()"
   ]
  },
  {
   "cell_type": "code",
   "execution_count": null,
   "metadata": {},
   "outputs": [
    {
     "data": {
      "text/plain": [
       "False"
      ]
     },
     "execution_count": 39,
     "metadata": {},
     "output_type": "execute_result"
    }
   ],
   "source": [
    "isinstance(t1, Person)\n",
    "issubclass(Student, Teacher)"
   ]
  },
  {
   "cell_type": "markdown",
   "metadata": {},
   "source": [
    "## 5. Encapsulation"
   ]
  },
  {
   "cell_type": "code",
   "execution_count": null,
   "metadata": {},
   "outputs": [
    {
     "name": "stdout",
     "output_type": "stream",
     "text": [
      "{'_Product__name': 'Phone', '_Product__price': 1000}\n",
      "Phone\n"
     ]
    }
   ],
   "source": [
    "class Product:\n",
    "    def __init__(self, name, price) -> None:\n",
    "        self.__name = name\n",
    "        self.__price = price\n",
    "\n",
    "p1 = Product(\"Phone\", 1000)\n",
    "print(p1.__dict__)\n"
   ]
  },
  {
   "cell_type": "code",
   "execution_count": null,
   "metadata": {},
   "outputs": [
    {
     "name": "stdout",
     "output_type": "stream",
     "text": [
      "-4000\n"
     ]
    }
   ],
   "source": [
    "class Product:\n",
    "    def __init__(self, price):\n",
    "        self.price = price\n",
    "\n",
    "    \n",
    "    @property\n",
    "    def price (self):\n",
    "        return self.__price\n",
    "    \n",
    "\n",
    "    @price.setter\n",
    "    def price (self, value):\n",
    "        if value < 0:\n",
    "            raise ValueError (\"Product price can't be negative\")\n",
    "        else:\n",
    "            self.__price =  value\n",
    "\n",
    "p1 = Product(-4000)\n",
    "\n",
    "print(p1.price)\n",
    "\n"
   ]
  }
 ],
 "metadata": {
  "kernelspec": {
   "display_name": "Python 3",
   "language": "python",
   "name": "python3"
  },
  "language_info": {
   "codemirror_mode": {
    "name": "ipython",
    "version": 3
   },
   "file_extension": ".py",
   "mimetype": "text/x-python",
   "name": "python",
   "nbconvert_exporter": "python",
   "pygments_lexer": "ipython3",
   "version": "3.12.8"
  }
 },
 "nbformat": 4,
 "nbformat_minor": 2
}
