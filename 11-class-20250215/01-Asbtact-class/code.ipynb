{
 "cells": [
  {
   "cell_type": "markdown",
   "metadata": {},
   "source": [
    "## Abstraction\n"
   ]
  },
  {
   "cell_type": "markdown",
   "metadata": {},
   "source": [
    "### Scenario\n",
    "\n",
    "Imagine you're developing an application that simulates different animals in a virtual zoo. Every animal has a name and makes a sound. However, the way each animal sounds is different—for example, dogs bark while cats meow. You want to enforce a consistent interface so that every animal class implements a `make_sound` method, but you also want to prevent direct instantiation of the generic Animal class since it doesn’t represent any specific animal.\n",
    "\n",
    "### Issues Identified\n",
    "\n",
    "1. **Common Interface Enforcement:**  \n",
    "   All animal classes should implement the `make_sound` method so that they can be used interchangeably when the sound of the animal is needed.\n",
    "\n",
    "2. **Preventing Direct Instantiation:**  \n",
    "   The Animal base class should only serve as a blueprint. Instantiating it directly would be meaningless because it doesn’t implement the actual sound behavior.\n",
    "\n",
    "3. **Consistent Implementation:**  \n",
    "   Each subclass (e.g., Dog, Cat) must provide its own implementation of the `make_sound` method to ensure behavior is correctly defined for every animal type.\n",
    "\n",
    "### Step-by-Step Solution\n",
    "\n",
    "#### 1. **Design the Base Class**\n",
    "   - **Common Attributes:**  \n",
    "     Every animal has a `name`, so include this as a common attribute in the base class.\n",
    "   - **Common Methods:**  \n",
    "     Define a method called `make_sound` that each animal should implement, but don’t provide an implementation in the base class.\n",
    "\n",
    "#### 2. **Apply Abstraction**\n",
    "   - **Use the `abc` Module:**  \n",
    "     Import the `ABC` class and the `@abstractmethod` decorator from the `abc` module.\n",
    "   - **Define Abstract Methods:**  \n",
    "     Mark the `make_sound` method as abstract to force subclasses to provide their own implementation. This also prevents the instantiation of the Animal class directly. In future, when some other class inherits from base class `Animal`, the abstractmethod decorator will make sure that the new subclass implements the `make_sound` method. If subclass didn't implement the `make_sound` method, it will also become the abstract class. \n",
    "\n",
    "#### 3. **Implement Concrete Subclasses**\n",
    "   - Create concrete classes like `Dog` and `Cat` that inherit from the abstract Animal class.\n",
    "   - Implement the `make_sound` method in each subclass according to the specific sound they make.\n",
    "\n",
    "#### 4. **Test the Implementation**\n",
    "   - Verify that you cannot instantiate the Animal base class.\n",
    "   - Instantiate the concrete subclasses and call their `make_sound` methods to ensure they work as expected.\n",
    "   - Inherit the new subclass `Cow` from `Animal` base class. Do not implement the `make_sound` method and check the error you receive.\n"
   ]
  },
  {
   "cell_type": "code",
   "execution_count": null,
   "metadata": {},
   "outputs": [],
   "source": [
    "from abc import ABC, abstractmethod\n",
    "\n",
    "class Animal(ABC):\n",
    "    def __init__(self, name):\n",
    "        self.name = name\n",
    "    \n",
    "    def walk(self):\n",
    "        pass\n",
    "    \n",
    "    @abstractmethod\n",
    "    def make_sound (self):\n",
    "        \"\"\"Each animal must implement its own sound.\"\"\"\n",
    "        pass"
   ]
  },
  {
   "cell_type": "code",
   "execution_count": null,
   "metadata": {},
   "outputs": [],
   "source": [
    "# animal = Animal(\"any animal\")\n",
    "class Cat(Animal):\n",
    "    def __init__(self, name):\n",
    "        super().__init__(name)\n",
    "\n",
    "    def make_sound(self):\n",
    "        print(f\"{self.name} sounds Meowwwwwwwww\")\n",
    "\n",
    "\n",
    "cat1 = Cat(\"Tickle\")"
   ]
  }
 ],
 "metadata": {
  "kernelspec": {
   "display_name": "Python 3",
   "language": "python",
   "name": "python3"
  },
  "language_info": {
   "codemirror_mode": {
    "name": "ipython",
    "version": 3
   },
   "file_extension": ".py",
   "mimetype": "text/x-python",
   "name": "python",
   "nbconvert_exporter": "python",
   "pygments_lexer": "ipython3",
   "version": "3.12.8"
  }
 },
 "nbformat": 4,
 "nbformat_minor": 2
}
