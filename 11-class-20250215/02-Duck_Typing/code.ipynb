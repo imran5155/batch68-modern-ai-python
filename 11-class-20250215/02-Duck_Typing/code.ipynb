{
 "cells": [
  {
   "cell_type": "markdown",
   "metadata": {},
   "source": [
    "### Duck Typing - Another aspect of Polymorphism\n",
    "\n",
    "If it walks like a duck and qacks like a duck then is duck."
   ]
  },
  {
   "cell_type": "code",
   "execution_count": 1,
   "metadata": {},
   "outputs": [],
   "source": [
    "class Ice:\n",
    "    def melt (self):\n",
    "        pass\n",
    "\n",
    "class Cheese:\n",
    "    def melt (self):\n",
    "        pass\n",
    "\n",
    "class IceCream:\n",
    "    def melt(self):\n",
    "        pass\n",
    "\n",
    "class Person:\n",
    "    pass\n",
    "\n"
   ]
  },
  {
   "cell_type": "code",
   "execution_count": 2,
   "metadata": {},
   "outputs": [],
   "source": [
    "ice1 = Ice()\n",
    "ic1 = IceCream()\n",
    "cheese = Cheese()\n",
    "person = Person()\n"
   ]
  },
  {
   "cell_type": "code",
   "execution_count": 3,
   "metadata": {},
   "outputs": [],
   "source": [
    "def make_ice_cake(obj):\n",
    "    obj.melt()"
   ]
  },
  {
   "cell_type": "code",
   "execution_count": null,
   "metadata": {},
   "outputs": [],
   "source": [
    "make_ice_cake(person)"
   ]
  }
 ],
 "metadata": {
  "kernelspec": {
   "display_name": "Python 3",
   "language": "python",
   "name": "python3"
  },
  "language_info": {
   "codemirror_mode": {
    "name": "ipython",
    "version": 3
   },
   "file_extension": ".py",
   "mimetype": "text/x-python",
   "name": "python",
   "nbconvert_exporter": "python",
   "pygments_lexer": "ipython3",
   "version": "3.12.8"
  }
 },
 "nbformat": 4,
 "nbformat_minor": 2
}
