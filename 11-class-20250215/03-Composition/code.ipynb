{
 "cells": [
  {
   "cell_type": "markdown",
   "metadata": {},
   "source": [
    "## Inheritance - Important Points\n",
    "- using classes to solve real-life issues.\n",
    "- Inheritance models a tight relationship between 2 classes\n",
    "- By using iheritance we can create more specialized classes from a more general class.\n",
    "- tightly couple relationship.\n",
    "- 'is-a' relationship.\n",
    "- Inheritance benefits:\n",
    "  - code resuse\n",
    "  - polymorphism\n",
    "  - code organization\n",
    "- class explosion problem: antiprogramming pattern.\n",
    "  - complex class hierarchy.\n",
    "  - hard to debug code and identify issues\n"
   ]
  },
  {
   "cell_type": "markdown",
   "metadata": {},
   "source": [
    "## Composition\n",
    "\n",
    "### Design a model to represent Cars of different types\n",
    "\n",
    "**Question-1:** How we can create a class structure to model different types of cars (Sedan, Hatchback, Subcompact Sedan, SUV, Electric Car)?   \n",
    "**Question-2:** A car has an engine. How can we represent this relationship in our class design?   \n",
    "**Question-3:** Engines can have different properties (type, make, hp etc.). How can we implement this flexibility?   \n"
   ]
  },
  {
   "cell_type": "markdown",
   "metadata": {},
   "source": [
    "### Designing a Smartphone Class Using OOP\n",
    "**Question-1:** How can we design a class structure to model smartphones from different brands?  \n",
    "**Question-2:** Each smartphone runs on an operating system (OS). How can we represent this relationship in our class design?  \n",
    "**Question-3:** Smartphones allow OS upgrades or changes. How can we implement this flexibility in our class structure?"
   ]
  },
  {
   "cell_type": "markdown",
   "metadata": {},
   "source": [
    "- Composition is the process of composing an object using other different objects.\n",
    "- 'has-a' relationship.\n",
    "- can more easily respond to the requirement changes regarding classes\n",
    "- additional responsibility on developer, should implement same methods in all derived classes.\n"
   ]
  },
  {
   "cell_type": "code",
   "execution_count": 2,
   "metadata": {},
   "outputs": [
    {
     "name": "stdout",
     "output_type": "stream",
     "text": [
      "Starting 4hp petrol engine\n",
      "Starting 4hp diesel engine\n"
     ]
    }
   ],
   "source": [
    "class Car:\n",
    "    def __init__(self, engine):\n",
    "        self.engine = engine\n",
    "\n",
    "\n",
    "class PetrolEngine:\n",
    "    def __init__(self, horse_power):\n",
    "        self.hp = horse_power\n",
    "\n",
    "    def start(self):\n",
    "        print(f'Starting {self.hp}hp petrol engine')\n",
    "\n",
    "\n",
    "class DieselEngine:\n",
    "    def __init__(self, horse_power):\n",
    "        self.hp = horse_power\n",
    "\n",
    "    def start(self):\n",
    "        print(f'Starting {self.hp}hp diesel engine')\n",
    "\n",
    "\n",
    "car1 = Car(PetrolEngine(4))\n",
    "car1.engine.start()\n",
    "car2 = Car(DieselEngine(2))\n",
    "car2.engine = DieselEngine(4)\n",
    "car2.engine.start()"
   ]
  },
  {
   "cell_type": "code",
   "execution_count": null,
   "metadata": {},
   "outputs": [],
   "source": [
    "class LEDLight:\n",
    "    def turn_on(self):\n",
    "        print(\"LED light is now ON.\")\n",
    "\n",
    "class BulbLight:\n",
    "    def turn_on(self):\n",
    "        print(\"Bulb light is now ON.\")\n",
    "\n",
    "class SmartHome:\n",
    "    def __init__(self, light):\n",
    "        self.light = light  # Composition: SmartHome contains a light\n",
    "\n",
    "    def activate_light(self):\n",
    "        self.light.turn_on()  # Calls the common method 'turn_on'\n"
   ]
  },
  {
   "cell_type": "code",
   "execution_count": null,
   "metadata": {},
   "outputs": [],
   "source": [
    "home1 = SmartHome(LEDLight())\n",
    "home1.activate_light()  # Output: LED light is now ON.\n",
    "\n",
    "home2 = SmartHome(BulbLight())\n",
    "\n",
    "home2.activate_light() "
   ]
  },
  {
   "cell_type": "markdown",
   "metadata": {},
   "source": [
    "The example below is the answer to the questions we asked earlier for Car class.\n",
    "\n",
    "**Question-1:** How we can create a class structure to model different types of cars (Sedan, Hatchback, Subcompact Sedan, SUV, Electric Car)?   \n",
    "**Question-2:** A car has an engine. How can we represent this relationship in our class design?   \n",
    "**Question-3:** Engines can have different properties (type, make, hp etc.). How can we implement this flexibility?   "
   ]
  },
  {
   "cell_type": "code",
   "execution_count": null,
   "metadata": {},
   "outputs": [],
   "source": [
    "# Base class for all cars\n",
    "class BaseCar:\n",
    "    def __init__(self, model):\n",
    "        self.model = model\n",
    "\n",
    "    def start(self):\n",
    "        print(f\"{self.model} is starting...\")\n",
    "\n",
    "\n",
    "# Derived classes representing specific types of cars\n",
    "class SUV(BaseCar):\n",
    "    def __init__(self, model, engine):\n",
    "        super().__init__(model)\n",
    "        self.engine = engine  # Composition: Car has an Engine\n",
    "\n",
    "class Sedan(BaseCar):\n",
    "    def __init__(self, model, engine):\n",
    "        super().__init__(model)\n",
    "        self.engine = engine  # Composition: Car has an Engine\n",
    "\n",
    "class SportsCar(BaseCar):\n",
    "    def __init__(self, model, engine):\n",
    "        super().__init__(model)\n",
    "        self.engine = engine  # Composition: Car has an Engine\n",
    "\n",
    "# Engine classes for different engine types\n",
    "class Engine:\n",
    "    def __init__(self, type):\n",
    "        self.type = type\n",
    "\n",
    "    def run(self):\n",
    "        print(f\"Running on {self.type} engine!\")\n",
    "\n",
    "class DieselEngine(Engine):\n",
    "    def __init__(self):\n",
    "        super().__init__(\"Diesel\")\n",
    "\n",
    "    def run(self):\n",
    "        print(\"Emitting black smoke..\")\n",
    "\n",
    "class HybridEngine(Engine):\n",
    "    def __init__(self):\n",
    "        super().__init__(\"Hybrid\")\n",
    "\n",
    "    def run(self):\n",
    "        print(\"Switching between electric and gasoline for efficiency!\")\n",
    "\n",
    "class PetrolEngine(Engine):\n",
    "    def __init__(self):\n",
    "        super().__init__(\"Petrol\")\n",
    "\n",
    "    def run(self):\n",
    "        print(\"Roaring with power using petrol!\")\n",
    "\n",
    "\n",
    "# Real-life car upgrade process\n",
    "suv_car = SUV(\"Ford Explorer\", PetrolEngine())\n",
    "suv_car.engine.run()\n",
    "\n",
    "print(\"Upgraded to a hybrid engine in 2015!\")\n",
    "suv_car.engine = DieselEngine()\n",
    "suv_car.engine.run()\n",
    "\n"
   ]
  },
  {
   "cell_type": "markdown",
   "metadata": {},
   "source": [
    "The example below is the answer to the questions we asked earlier for Smartphone class.\n",
    "\n",
    "**Question-1:** How can we design a class structure to model smartphones from different brands?  \n",
    "**Question-2:** Each smartphone runs on an operating system (OS). How can we represent this relationship in our class design?  \n",
    "**Question-3:** Smartphones allow OS upgrades or changes. How can we implement this flexibility in our class structure?\n"
   ]
  },
  {
   "cell_type": "code",
   "execution_count": 1,
   "metadata": {},
   "outputs": [
    {
     "name": "stdout",
     "output_type": "stream",
     "text": [
      "Booting up Android 9.0...\n",
      "Booting up Android 11.0...\n",
      "Starting iOS 16.0...\n"
     ]
    }
   ],
   "source": [
    "# Base class for all smartphones\n",
    "class BaseSmartphone:\n",
    "    def __init__(self, brand, model):\n",
    "        self.brand = brand\n",
    "        self.model = model\n",
    "\n",
    "    def specs(self):\n",
    "        print(f\"{self.brand} {self.model} is a powerful smartphone.\")\n",
    "\n",
    "\n",
    "# Derived classes representing different smartphone brands\n",
    "class Samsung(BaseSmartphone):\n",
    "    def __init__(self, model, os):\n",
    "        super().__init__(\"Samsung\", model)\n",
    "        self.os = os  # Composition: Smartphone has an OS\n",
    "\n",
    "\n",
    "\n",
    "class iPhone(BaseSmartphone):\n",
    "    def __init__(self, model, os):\n",
    "        super().__init__(\"Apple\", model)\n",
    "        self.os = os  # Composition: Smartphone has an OS\n",
    "\n",
    "\n",
    "class OnePlus(BaseSmartphone):\n",
    "    def __init__(self, model, os):\n",
    "        super().__init__(\"OnePlus\", model)\n",
    "        self.os = os  # Composition: Smartphone has an OS\n",
    "\n",
    "\n",
    "# Operating System classes\n",
    "class OperatingSystem:\n",
    "    def __init__(self, name, version):\n",
    "        self.name = name\n",
    "        self.version = version\n",
    "\n",
    "    def run(self):\n",
    "        print(f\"Running {self.name} version {self.version}\")\n",
    "\n",
    "\n",
    "class Android(OperatingSystem):\n",
    "    def __init__(self, version):\n",
    "        super().__init__(\"Android\", version)\n",
    "\n",
    "    def run(self):\n",
    "        print(f\"Booting up Android {self.version}...\")\n",
    "\n",
    "# os = Android(\"10.12\")\n",
    "\n",
    "class iOS(OperatingSystem):\n",
    "    \n",
    "    def __init__(self, version):\n",
    "        super().__init__(\"iOS\", version)\n",
    "\n",
    "    def run(self):\n",
    "        print(f\"Starting iOS {self.version}...\")\n",
    "\n",
    "\n",
    "# Smartphone Upgrade Process\n",
    "android_phone = Samsung(\"Galaxy S9\", Android(\"9.0\"))\n",
    "android_phone.os.run()\n",
    "\n",
    "android_phone.os = Android(\"11.0\")\n",
    "android_phone.os.run()\n",
    "\n",
    "\n",
    "apple_phone = iPhone(\"iPhone 14\", iOS(\"16.0\"))\n",
    "apple_phone.os.run()"
   ]
  },
  {
   "cell_type": "markdown",
   "metadata": {},
   "source": [
    "object.atrribute.\n",
    "object.method"
   ]
  },
  {
   "cell_type": "code",
   "execution_count": 3,
   "metadata": {},
   "outputs": [
    {
     "name": "stdout",
     "output_type": "stream",
     "text": [
      "apple\n"
     ]
    }
   ],
   "source": [
    "print(apple_phone.brand.lower())"
   ]
  },
  {
   "cell_type": "code",
   "execution_count": null,
   "metadata": {},
   "outputs": [],
   "source": []
  }
 ],
 "metadata": {
  "kernelspec": {
   "display_name": "Python 3",
   "language": "python",
   "name": "python3"
  },
  "language_info": {
   "codemirror_mode": {
    "name": "ipython",
    "version": 3
   },
   "file_extension": ".py",
   "mimetype": "text/x-python",
   "name": "python",
   "nbconvert_exporter": "python",
   "pygments_lexer": "ipython3",
   "version": "3.12.8"
  }
 },
 "nbformat": 4,
 "nbformat_minor": 2
}
