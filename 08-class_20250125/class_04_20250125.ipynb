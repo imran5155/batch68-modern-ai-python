{
  "nbformat": 4,
  "nbformat_minor": 0,
  "metadata": {
    "colab": {
      "provenance": []
    },
    "kernelspec": {
      "name": "python3",
      "display_name": "Python 3"
    },
    "language_info": {
      "name": "python"
    }
  },
  "cells": [
    {
      "cell_type": "markdown",
      "source": [
        "# Functions\n",
        "\n",
        "## Types\n",
        "1. Parameterless\n",
        "2. Parameterized\n",
        "3. Without `return`\n",
        "4. With `return`\n"
      ],
      "metadata": {
        "id": "pc44uSuS2fb0"
      }
    },
    {
      "cell_type": "markdown",
      "source": [
        "1. Positional Arguments"
      ],
      "metadata": {
        "id": "3I3rtCSU3p-k"
      }
    },
    {
      "cell_type": "code",
      "source": [
        "def add(first_num:int, second_num:int) -> int:\n",
        "    return first_num + second_num\n",
        "\n",
        "\n",
        "result: int = add(5, 8)  # Arguments\n",
        "print(result)"
      ],
      "metadata": {
        "colab": {
          "base_uri": "https://localhost:8080/"
        },
        "id": "FA2q8WM93uK6",
        "outputId": "999e8333-173d-4938-8651-e579dec020d2"
      },
      "execution_count": 1,
      "outputs": [
        {
          "output_type": "stream",
          "name": "stdout",
          "text": [
            "13\n"
          ]
        }
      ]
    },
    {
      "cell_type": "code",
      "source": [
        "def greet (first_name, last_name):\n",
        "    print(f'Hello {first_name} {last_name}')\n",
        "\n",
        "first='John'\n",
        "last='Doe'\n",
        "\n",
        "greet(first, last)\n",
        "\n",
        "greet(last, first)"
      ],
      "metadata": {
        "colab": {
          "base_uri": "https://localhost:8080/"
        },
        "id": "rRJsSDTo5SCs",
        "outputId": "931aaa28-97da-4cd6-abdc-7157fed04c1d"
      },
      "execution_count": 3,
      "outputs": [
        {
          "output_type": "stream",
          "name": "stdout",
          "text": [
            "Hello John Doe\n",
            "Hello Doe John\n"
          ]
        }
      ]
    },
    {
      "cell_type": "code",
      "source": [
        "# Intentional Error\n",
        "def greet (first_name, last_name):\n",
        "    print(f'Hello {first_name} {last_name}')\n",
        "\n",
        "first='John'\n",
        "last='Doe'\n",
        "\n",
        "greet(first)\n",
        "\n"
      ],
      "metadata": {
        "colab": {
          "base_uri": "https://localhost:8080/",
          "height": 193
        },
        "id": "Z1LkBu6T6ruj",
        "outputId": "0ff43d9f-e502-4a49-a86a-7947f25f1f14"
      },
      "execution_count": 4,
      "outputs": [
        {
          "output_type": "error",
          "ename": "TypeError",
          "evalue": "greet() missing 1 required positional argument: 'last_name'",
          "traceback": [
            "\u001b[0;31m---------------------------------------------------------------------------\u001b[0m",
            "\u001b[0;31mTypeError\u001b[0m                                 Traceback (most recent call last)",
            "\u001b[0;32m<ipython-input-4-7b97cabc0f73>\u001b[0m in \u001b[0;36m<cell line: 0>\u001b[0;34m()\u001b[0m\n\u001b[1;32m      5\u001b[0m \u001b[0mlast\u001b[0m\u001b[0;34m=\u001b[0m\u001b[0;34m'Doe'\u001b[0m\u001b[0;34m\u001b[0m\u001b[0;34m\u001b[0m\u001b[0m\n\u001b[1;32m      6\u001b[0m \u001b[0;34m\u001b[0m\u001b[0m\n\u001b[0;32m----> 7\u001b[0;31m \u001b[0mgreet\u001b[0m\u001b[0;34m(\u001b[0m\u001b[0mfirst\u001b[0m\u001b[0;34m)\u001b[0m\u001b[0;34m\u001b[0m\u001b[0;34m\u001b[0m\u001b[0m\n\u001b[0m\u001b[1;32m      8\u001b[0m \u001b[0;34m\u001b[0m\u001b[0m\n",
            "\u001b[0;31mTypeError\u001b[0m: greet() missing 1 required positional argument: 'last_name'"
          ]
        }
      ]
    },
    {
      "cell_type": "code",
      "source": [
        "def add (*args):\n",
        "    print(\"All Args\", args)\n",
        "    print(type(args))\n",
        "    total = 0\n",
        "    for num in args:\n",
        "        total += num\n",
        "    return total\n",
        "\n",
        "\n",
        "print(add(1,2,4,5,6))"
      ],
      "metadata": {
        "colab": {
          "base_uri": "https://localhost:8080/"
        },
        "id": "SmpblqkL7FAO",
        "outputId": "5459f3ac-7521-4505-bed1-6236bf3d4cb0"
      },
      "execution_count": 7,
      "outputs": [
        {
          "output_type": "stream",
          "name": "stdout",
          "text": [
            "All Args (1, 2, 4, 5, 6)\n",
            "<class 'tuple'>\n",
            "18\n"
          ]
        }
      ]
    },
    {
      "cell_type": "code",
      "source": [
        "print(add(1,5,6))"
      ],
      "metadata": {
        "colab": {
          "base_uri": "https://localhost:8080/"
        },
        "id": "3f3uUWWg8raT",
        "outputId": "782ca31e-df0d-41c0-9df9-e5ea56a4eacb"
      },
      "execution_count": 8,
      "outputs": [
        {
          "output_type": "stream",
          "name": "stdout",
          "text": [
            "All Args (1, 5, 6)\n",
            "<class 'tuple'>\n",
            "12\n"
          ]
        }
      ]
    },
    {
      "cell_type": "code",
      "source": [
        "num_list = [1,2,3,4,5]\n",
        "\n",
        "result = add(*num_list) # list unpacking\n",
        "# result = add(1,2,3,4,5)\n",
        "print(result)"
      ],
      "metadata": {
        "id": "MrxBmWXj8xxV"
      },
      "execution_count": 13,
      "outputs": []
    },
    {
      "cell_type": "markdown",
      "source": [],
      "metadata": {
        "id": "bgx9l-yY9RtP"
      }
    },
    {
      "cell_type": "code",
      "source": [
        "print(num_list)\n",
        "print(*num_list)"
      ],
      "metadata": {
        "colab": {
          "base_uri": "https://localhost:8080/"
        },
        "id": "nGraq3aG9RR7",
        "outputId": "8c8f4030-c23a-443e-adcb-fc4eef7145f3"
      },
      "execution_count": 15,
      "outputs": [
        {
          "output_type": "stream",
          "name": "stdout",
          "text": [
            "[1, 2, 3, 4, 5]\n",
            "1 2 3 4 5\n"
          ]
        }
      ]
    },
    {
      "cell_type": "markdown",
      "source": [
        "## Keyword Argument"
      ],
      "metadata": {
        "id": "LOioZoTC_Sd2"
      }
    },
    {
      "cell_type": "code",
      "source": [
        "def greet (name, age):\n",
        "    print(f\"The name is {name} and the age is {age}\")\n",
        "\n",
        "greet('John', 25)"
      ],
      "metadata": {
        "colab": {
          "base_uri": "https://localhost:8080/"
        },
        "id": "VlAfIwR6_XqD",
        "outputId": "2c3752b7-9467-452e-bb1c-4d4ae51e3c14"
      },
      "execution_count": 16,
      "outputs": [
        {
          "output_type": "stream",
          "name": "stdout",
          "text": [
            "The name is John and the age is 25\n"
          ]
        }
      ]
    },
    {
      "cell_type": "code",
      "source": [
        "def greet (name, age):\n",
        "    print(f\"The name is {name} and the age is {age}\")\n",
        "\n",
        "greet(age=25, name='John')"
      ],
      "metadata": {
        "colab": {
          "base_uri": "https://localhost:8080/"
        },
        "id": "7fc5pS8g_zij",
        "outputId": "e75104a4-0e7f-4d21-e1fd-55b360cd525e"
      },
      "execution_count": 17,
      "outputs": [
        {
          "output_type": "stream",
          "name": "stdout",
          "text": [
            "The name is John and the age is 25\n"
          ]
        }
      ]
    },
    {
      "cell_type": "code",
      "source": [
        "def greet (name, age):\n",
        "    print(f\"The name is {name} and the age is {age}\")\n",
        "\n",
        "greet(25, 'John')"
      ],
      "metadata": {
        "colab": {
          "base_uri": "https://localhost:8080/"
        },
        "id": "9eXwamf2BHkl",
        "outputId": "a3796d4c-11d7-42f2-ca5f-db8895829666"
      },
      "execution_count": 18,
      "outputs": [
        {
          "output_type": "stream",
          "name": "stdout",
          "text": [
            "The name is 25 and the age is John\n"
          ]
        }
      ]
    },
    {
      "cell_type": "code",
      "source": [
        "def greet (first_name=\"Muhammad\", last_name):\n",
        "    print(f'Hello {first_name} {last_name}')\n",
        "\n",
        "\n",
        "\n",
        "greet(\"Rehan\")"
      ],
      "metadata": {
        "colab": {
          "base_uri": "https://localhost:8080/",
          "height": 106
        },
        "id": "Z5ce-pEBBRdz",
        "outputId": "a64a38f3-04be-4392-9e4f-10a1b2cc3af0"
      },
      "execution_count": 20,
      "outputs": [
        {
          "output_type": "error",
          "ename": "SyntaxError",
          "evalue": "non-default argument follows default argument (<ipython-input-20-ccf5e52d3fcd>, line 1)",
          "traceback": [
            "\u001b[0;36m  File \u001b[0;32m\"<ipython-input-20-ccf5e52d3fcd>\"\u001b[0;36m, line \u001b[0;32m1\u001b[0m\n\u001b[0;31m    def greet (first_name=\"Muhammad\", last_name):\u001b[0m\n\u001b[0m                                      ^\u001b[0m\n\u001b[0;31mSyntaxError\u001b[0m\u001b[0;31m:\u001b[0m non-default argument follows default argument\n"
          ]
        }
      ]
    },
    {
      "cell_type": "code",
      "source": [
        "def greet (last_name, first_name=\"Muhammad\"):\n",
        "    print(f'Hello {first_name} {last_name}')\n",
        "\n",
        "\n",
        "\n",
        "greet(\"Rehan\")"
      ],
      "metadata": {
        "colab": {
          "base_uri": "https://localhost:8080/"
        },
        "id": "v2yVGQDMCM3i",
        "outputId": "7894e004-44de-4215-d9fc-a722c983d8d0"
      },
      "execution_count": 21,
      "outputs": [
        {
          "output_type": "stream",
          "name": "stdout",
          "text": [
            "Hello Muhammad Rehan\n"
          ]
        }
      ]
    },
    {
      "cell_type": "markdown",
      "source": [
        "\"Muhammad Rehan\"\n",
        "Rehan"
      ],
      "metadata": {
        "id": "Gi8M4Xl3Bfi7"
      }
    },
    {
      "cell_type": "code",
      "source": [
        "def greet (last_name, first_name=\"Muhammad\"):\n",
        "    print(f'Hello {first_name} {last_name}')\n",
        "\n",
        "\n",
        "\n",
        "greet(\"Rehan\", first_name=\"ABC\")"
      ],
      "metadata": {
        "colab": {
          "base_uri": "https://localhost:8080/"
        },
        "id": "0SnZTGraCa9A",
        "outputId": "92c926d3-b3ae-45dd-915a-f3177c6262bb"
      },
      "execution_count": 26,
      "outputs": [
        {
          "output_type": "stream",
          "name": "stdout",
          "text": [
            "Hello ABC Rehan\n"
          ]
        }
      ]
    },
    {
      "cell_type": "code",
      "source": [
        "def greet(**kwargs):\n",
        "    print(kwargs)\n",
        "    print(type(kwargs))\n",
        "\n",
        "greet(first_name=\"Muhammad\", last_name=\"Rehan\", age=343)\n",
        "\n",
        "\n"
      ],
      "metadata": {
        "colab": {
          "base_uri": "https://localhost:8080/"
        },
        "id": "CUHe4ql7DxMG",
        "outputId": "af837b48-1112-400a-89ec-4993935c3956"
      },
      "execution_count": 30,
      "outputs": [
        {
          "output_type": "stream",
          "name": "stdout",
          "text": [
            "{'first_name': 'Muhammad', 'last_name': 'Rehan', 'age': 343}\n",
            "<class 'dict'>\n"
          ]
        }
      ]
    },
    {
      "cell_type": "code",
      "source": [
        "def greet(**kwargs):\n",
        "    if 'name' in kwargs:\n",
        "        print(f\"Hello {kwargs['name']}!\")\n",
        "    else:\n",
        "        print(\"Hello Guest!\")\n",
        "\n",
        "greet(name=\"Bob\")  # Output: Hello Bob!\n",
        "greet()  # Output: Hello Guest!"
      ],
      "metadata": {
        "colab": {
          "base_uri": "https://localhost:8080/"
        },
        "id": "I6W-DbWYD5hu",
        "outputId": "abe84665-e6e0-4d08-b892-53f6cd7b73e9"
      },
      "execution_count": 29,
      "outputs": [
        {
          "output_type": "stream",
          "name": "stdout",
          "text": [
            "Hello Bob!\n",
            "Hello Guest!\n"
          ]
        }
      ]
    },
    {
      "cell_type": "code",
      "source": [
        "def display_info(*args, **kwargs):\n",
        "    print(\"Positional arguments:\", args)\n",
        "    print(\"Keyword arguments:\", kwargs)\n",
        "\n",
        "display_info(1, 2, 3, name=\"Ali\", age=25)\n",
        "# Output:\n",
        "# Positional arguments: (1, 2, 3)\n",
        "# Keyword arguments: {'name': 'Ali', 'age': 25}"
      ],
      "metadata": {
        "id": "iU_qtfLfE0sb"
      },
      "execution_count": 29,
      "outputs": []
    },
    {
      "cell_type": "code",
      "source": [
        "data = {\"first_name\":\"Muhammad\", \"last_name\":\"Rehan\", \"age\":343}\n",
        "\n",
        "greet(**data)"
      ],
      "metadata": {
        "colab": {
          "base_uri": "https://localhost:8080/"
        },
        "id": "K-Zd7BlpFlVc",
        "outputId": "0d0055ce-890d-4c20-e489-44e75621fcbe"
      },
      "execution_count": 35,
      "outputs": [
        {
          "output_type": "stream",
          "name": "stdout",
          "text": [
            "{'first_name': 'Muhammad', 'last_name': 'Rehan', 'age': 343}\n",
            "<class 'dict'>\n"
          ]
        }
      ]
    },
    {
      "cell_type": "markdown",
      "source": [
        "## Scopes in Python"
      ],
      "metadata": {
        "id": "YzlCHHLkL1FL"
      }
    },
    {
      "cell_type": "code",
      "source": [
        "def learn_scope(a,b):\n",
        "    print(\"a: \", a)\n",
        "    print(\"b: \", b)\n",
        "\n",
        "a = 6\n",
        "b = 8\n",
        "\n",
        "learn_scope(12, 20)\n",
        "print(\"last output\", \"a: \",a, \"b: \", b)"
      ],
      "metadata": {
        "colab": {
          "base_uri": "https://localhost:8080/"
        },
        "id": "PC-rV1hiFyvH",
        "outputId": "10b15168-788d-45ce-d59b-a820c745e89e"
      },
      "execution_count": 37,
      "outputs": [
        {
          "output_type": "stream",
          "name": "stdout",
          "text": [
            "a:  12\n",
            "b:  20\n",
            "last output a:  6 b:  8\n"
          ]
        }
      ]
    },
    {
      "cell_type": "code",
      "source": [
        "first_name = \"Muhammad\"\n",
        "\n",
        "def greet(last_name):\n",
        "    print(f\"Hello {first_name} {last_name}\")\n",
        "\n",
        "\n",
        "greet(\"Rehan\")"
      ],
      "metadata": {
        "colab": {
          "base_uri": "https://localhost:8080/"
        },
        "id": "RH8Rm-ZKNOQw",
        "outputId": "9af79a33-dd2b-48c3-d5a4-2187d7482c02"
      },
      "execution_count": 38,
      "outputs": [
        {
          "output_type": "stream",
          "name": "stdout",
          "text": [
            "Hello Muhammad Rehan\n"
          ]
        }
      ]
    },
    {
      "cell_type": "code",
      "source": [
        "def greet():\n",
        "    my_name=\"Muhammad\"\n",
        "    print(my_name)\n",
        "\n",
        "\n",
        "greet()\n",
        "\n",
        "print(my_name)"
      ],
      "metadata": {
        "colab": {
          "base_uri": "https://localhost:8080/"
        },
        "id": "V17jLRS0NmWu",
        "outputId": "7e7658ce-1d7f-4078-a2ce-b491817862db"
      },
      "execution_count": 42,
      "outputs": [
        {
          "output_type": "stream",
          "name": "stdout",
          "text": [
            "Muhammad\n",
            "Ammar\n"
          ]
        }
      ]
    },
    {
      "cell_type": "markdown",
      "source": [
        "`global` keyword"
      ],
      "metadata": {
        "id": "AVyVP4ToOyJd"
      }
    },
    {
      "cell_type": "code",
      "source": [
        "def learn_scope(a,b):\n",
        "    print(f\"value of a before reassigning {a}\")\n",
        "    a = 200\n",
        "    print(f\"value of a after reassigning {a}\")\n",
        "    print(\"a: \", a)\n",
        "    print(\"b: \", b)\n",
        "\n",
        "a = 6\n",
        "b = 8\n",
        "\n",
        "learn_scope(12, 20)\n",
        "print(\"last output\", \"a: \",a, \"b: \", b)"
      ],
      "metadata": {
        "colab": {
          "base_uri": "https://localhost:8080/"
        },
        "id": "uX7OPc97O4eC",
        "outputId": "185ab301-9d7c-4d84-eed9-a1884c334845"
      },
      "execution_count": 47,
      "outputs": [
        {
          "output_type": "stream",
          "name": "stdout",
          "text": [
            "value of a before reassigning 12\n",
            "value of a after reassigning 200\n",
            "a:  200\n",
            "b:  20\n",
            "last output a:  6 b:  8\n",
            "value of a before reassigning 12\n",
            "value of a after reassigning 200\n",
            "a:  200\n",
            "b:  20\n"
          ]
        }
      ]
    },
    {
      "cell_type": "code",
      "source": [
        "def learn_scope(c,d):\n",
        "    print(f\"value of a before reassigning {a}\")\n",
        "    # a = 200\n",
        "    print(f\"value of a after reassigning {a}\")\n",
        "    print(\"a: \", a)\n",
        "    print(\"b: \", b)\n",
        "\n",
        "a = 6\n",
        "b = 8\n",
        "\n",
        "learn_scope(12, 20)\n",
        "print(\"last output\", \"a: \",a, \"b: \", b)"
      ],
      "metadata": {
        "colab": {
          "base_uri": "https://localhost:8080/"
        },
        "id": "1a55ky2LQWIh",
        "outputId": "7f4c414a-c741-4ec2-f8f6-97c08e322b8a"
      },
      "execution_count": 48,
      "outputs": [
        {
          "output_type": "stream",
          "name": "stdout",
          "text": [
            "value of a before reassigning 6\n",
            "value of a after reassigning 6\n",
            "a:  6\n",
            "b:  8\n",
            "last output a:  6 b:  8\n"
          ]
        }
      ]
    },
    {
      "cell_type": "code",
      "source": [
        "def func_2 ():\n",
        "    name = \"Musa\"\n",
        "    print(\"name: \", name)\n",
        "\n",
        "name = \"Rehan\"\n",
        "func_2()\n",
        "print(name)\n"
      ],
      "metadata": {
        "colab": {
          "base_uri": "https://localhost:8080/"
        },
        "id": "syNgophLQrne",
        "outputId": "b0595c59-4d6d-48f3-aaad-a9d18c7f6dd1"
      },
      "execution_count": 50,
      "outputs": [
        {
          "output_type": "stream",
          "name": "stdout",
          "text": [
            "name:  Musa\n",
            "Rehan\n"
          ]
        }
      ]
    },
    {
      "cell_type": "code",
      "source": [
        "name = \"Rehan\"\n",
        "\n",
        "\n",
        "def func_2 ():\n",
        "    global name\n",
        "    name = \"Musa\"\n",
        "    print(\"name: \", name)\n",
        "\n",
        "\n",
        "func_2()\n",
        "print(name)"
      ],
      "metadata": {
        "colab": {
          "base_uri": "https://localhost:8080/"
        },
        "id": "shhfljwdRQiT",
        "outputId": "c3fa01ce-3096-42aa-8c58-56bc174e05c6"
      },
      "execution_count": 56,
      "outputs": [
        {
          "output_type": "stream",
          "name": "stdout",
          "text": [
            "name:  Musa\n",
            "Musa\n"
          ]
        }
      ]
    },
    {
      "cell_type": "code",
      "source": [
        "# name = \"Rehan\"\n",
        "\n",
        "\n",
        "def func_2 ():\n",
        "    global name2\n",
        "    name2 = \"Musa\"\n",
        "    print(\"name: \", name2)\n",
        "\n",
        "\n",
        "func_2()\n",
        "print(name2)"
      ],
      "metadata": {
        "colab": {
          "base_uri": "https://localhost:8080/"
        },
        "id": "vZw2NkpzSIsp",
        "outputId": "a112eaab-2c81-4044-d9e5-b5de811f026b"
      },
      "execution_count": 58,
      "outputs": [
        {
          "output_type": "stream",
          "name": "stdout",
          "text": [
            "name:  Musa\n",
            "Musa\n"
          ]
        }
      ]
    },
    {
      "cell_type": "markdown",
      "source": [
        "## Recursive Functions"
      ],
      "metadata": {
        "id": "TMdFrhRbTnbQ"
      }
    },
    {
      "cell_type": "markdown",
      "source": [
        "7! = 1x2x3x4x5x6x7"
      ],
      "metadata": {
        "id": "5kEvd6pOTqhG"
      }
    },
    {
      "cell_type": "code",
      "source": [
        "def factorial(n): # 5\n",
        "    if n < 0:\n",
        "        return None\n",
        "\n",
        "    if n < 2:\n",
        "        return 1\n",
        "    else:\n",
        "        result = 1\n",
        "        for i in range(2,n+1): # [2, 3, 4, 5]\n",
        "            result = result * i\n",
        "            # result *= i\n",
        "        return result\n",
        "print(factorial(5)) # Output: 120\n"
      ],
      "metadata": {
        "colab": {
          "base_uri": "https://localhost:8080/"
        },
        "id": "kzlgBpMSUH5u",
        "outputId": "1ecc5791-5189-4ab7-bc02-050f78f7fea3"
      },
      "execution_count": 63,
      "outputs": [
        {
          "output_type": "stream",
          "name": "stdout",
          "text": [
            "120\n"
          ]
        }
      ]
    },
    {
      "cell_type": "code",
      "source": [
        "print(list(range(2,6)))"
      ],
      "metadata": {
        "colab": {
          "base_uri": "https://localhost:8080/"
        },
        "id": "T7eTEiN7Ul9a",
        "outputId": "4a262ac7-3ab1-460a-de53-8af701a73799"
      },
      "execution_count": 64,
      "outputs": [
        {
          "output_type": "stream",
          "name": "stdout",
          "text": [
            "[2, 3, 4, 5]\n"
          ]
        }
      ]
    },
    {
      "cell_type": "code",
      "source": [
        "# With Recursion\n",
        "\n",
        "def factorial(n): # 5\n",
        "    # Base case\n",
        "    if n < 0:\n",
        "        return None\n",
        "    if n < 2:\n",
        "        return 1\n",
        "    # Recursive case\n",
        "    return n * factorial(n - 1)  # 5 * 4 * 3 * 2 * 1\n",
        "\n",
        "print(factorial(5))"
      ],
      "metadata": {
        "id": "xC59P1HAVsZ4"
      },
      "execution_count": null,
      "outputs": []
    },
    {
      "cell_type": "markdown",
      "source": [
        "## Lambda function\n",
        "`lambda` arguments: expression"
      ],
      "metadata": {
        "id": "QYcAeAAceOuK"
      }
    },
    {
      "cell_type": "code",
      "source": [
        "square = lambda x: x**2\n",
        "\n"
      ],
      "metadata": {
        "colab": {
          "base_uri": "https://localhost:8080/"
        },
        "id": "1yAPWjaveRdc",
        "outputId": "cad72795-593f-4680-dce7-6d19b7f66b53"
      },
      "execution_count": 65,
      "outputs": [
        {
          "output_type": "stream",
          "name": "stdout",
          "text": [
            "25\n"
          ]
        }
      ]
    },
    {
      "cell_type": "code",
      "source": [
        "# prompt: write a simple example of lambda function in real scenario\n",
        "\n",
        "# Example 1: Using lambda with map() to square a list of numbers\n",
        "numbers = [1, 2, 3, 4, 5]\n",
        "squared_numbers = list(map(lambda x: x**2, numbers))\n",
        "print(squared_numbers)  # Output: [1, 4, 9, 16, 25]\n",
        "\n",
        "\n",
        "# Example 2: Using lambda with filter() to get even numbers\n",
        "numbers = [1, 2, 3, 4, 5, 6]\n",
        "even_numbers = list(filter(lambda x: x % 2 == 0, numbers))\n",
        "print(even_numbers)  # Output: [2, 4, 6]\n",
        "\n",
        "\n",
        "# Example 3:  Creating a short, anonymous function for sorting\n",
        "points = [(1, 2), (4, 1), (9, 10), (13, -3)]\n",
        "points.sort(key=lambda point: point[1])  # Sort by the second element of the tuple.\n",
        "print(points)  # Output: [(13, -3), (4, 1), (1, 2), (9, 10)]"
      ],
      "metadata": {
        "id": "dO_Uj18zfacr"
      },
      "execution_count": null,
      "outputs": []
    }
  ]
}